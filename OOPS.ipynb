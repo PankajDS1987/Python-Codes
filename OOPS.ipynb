{
  "nbformat": 4,
  "nbformat_minor": 0,
  "metadata": {
    "colab": {
      "name": "OOPS.ipynb",
      "provenance": [],
      "authorship_tag": "ABX9TyP9q3dV1jqjYCdGIwRBgJ7d",
      "include_colab_link": true
    },
    "kernelspec": {
      "name": "python3",
      "display_name": "Python 3"
    },
    "language_info": {
      "name": "python"
    }
  },
  "cells": [
    {
      "cell_type": "markdown",
      "metadata": {
        "id": "view-in-github",
        "colab_type": "text"
      },
      "source": [
        "<a href=\"https://colab.research.google.com/github/PankajDS1987/Python-Codes/blob/master/OOPS.ipynb\" target=\"_parent\"><img src=\"https://colab.research.google.com/assets/colab-badge.svg\" alt=\"Open In Colab\"/></a>"
      ]
    },
    {
      "cell_type": "code",
      "execution_count": null,
      "metadata": {
        "colab": {
          "base_uri": "https://localhost:8080/"
        },
        "id": "jvVqtjpoDnRP",
        "outputId": "c400f9cc-aa56-427e-b73b-76817148a212"
      },
      "outputs": [
        {
          "output_type": "stream",
          "name": "stdout",
          "text": [
            "<class 'type'> 5\n",
            "<class 'bool'>\n",
            "<class 'str'>\n",
            "<class 'list'>\n"
          ]
        }
      ],
      "source": [
        "x= 5\n",
        "print(type,(x))\n",
        "z = True\n",
        "print(type(z))\n",
        "y = \"Alpha\"\n",
        "print(type(y))\n",
        "lst=[11,1213]\n",
        "print(type(lst))"
      ]
    },
    {
      "cell_type": "code",
      "source": [
        "lst.append(1012)\n",
        "print(lst)\n",
        "print(len(lst))\n",
        "lst.extend([143,33])\n",
        "print(lst)"
      ],
      "metadata": {
        "colab": {
          "base_uri": "https://localhost:8080/"
        },
        "id": "SMvj1lamEK2g",
        "outputId": "6e32d579-3065-4b6c-cc96-f44415a8b1ee"
      },
      "execution_count": null,
      "outputs": [
        {
          "output_type": "stream",
          "name": "stdout",
          "text": [
            "[11, 1213, 1012, 1012, 1012, 1012]\n",
            "6\n",
            "[11, 1213, 1012, 1012, 1012, 1012, 143, 33]\n"
          ]
        }
      ]
    },
    {
      "cell_type": "code",
      "source": [
        "class Students:\n",
        "  name = 'Pankaj' #data\n",
        "  rollNo= '11' #data"
      ],
      "metadata": {
        "id": "iZJAQ2twIbzC"
      },
      "execution_count": null,
      "outputs": []
    },
    {
      "cell_type": "code",
      "source": [
        "s1 = Students()\n",
        "s2 = Students()\n",
        "print(type(s1))\n",
        "print(type(s2))"
      ],
      "metadata": {
        "colab": {
          "base_uri": "https://localhost:8080/"
        },
        "id": "u3toqZDHIqVB",
        "outputId": "75d88124-ee12-42f2-e389-8b5b95ba4991"
      },
      "execution_count": null,
      "outputs": [
        {
          "output_type": "stream",
          "name": "stdout",
          "text": [
            "<class '__main__.Students'>\n",
            "<class '__main__.Students'>\n"
          ]
        }
      ]
    },
    {
      "cell_type": "code",
      "source": [
        "class Car:\n",
        "  color = ()\n",
        "  model = ()\n",
        "  brand = ()"
      ],
      "metadata": {
        "id": "yMMzULbNJKwq"
      },
      "execution_count": null,
      "outputs": []
    },
    {
      "cell_type": "code",
      "source": [
        "m1 = Car()\n",
        "m2 = Car()"
      ],
      "metadata": {
        "id": "_bsahgKCJVh7"
      },
      "execution_count": null,
      "outputs": []
    },
    {
      "cell_type": "code",
      "source": [
        "print(m1.brand)"
      ],
      "metadata": {
        "colab": {
          "base_uri": "https://localhost:8080/"
        },
        "id": "RVTv_RBfJl_L",
        "outputId": "cd0eb3b8-37b6-43c7-8c7a-320aca0ad07f"
      },
      "execution_count": null,
      "outputs": [
        {
          "output_type": "stream",
          "name": "stdout",
          "text": [
            "()\n"
          ]
        }
      ]
    },
    {
      "cell_type": "code",
      "source": [
        "print(m2,m1)\n",
        "# it gives actual memory location"
      ],
      "metadata": {
        "colab": {
          "base_uri": "https://localhost:8080/"
        },
        "id": "VD4C0TLIJ5Lr",
        "outputId": "a0fbd5fb-17b9-4538-e309-d50892f02b2a"
      },
      "execution_count": null,
      "outputs": [
        {
          "output_type": "stream",
          "name": "stdout",
          "text": [
            "<__main__.Car object at 0x7ff4697dd110> <__main__.Car object at 0x7ff4697dd590>\n"
          ]
        }
      ]
    },
    {
      "cell_type": "code",
      "source": [
        "m1.color='Red'\n",
        "m2.color='brand'\n",
        "m2.model='2011'\n",
        "m2.brand ='Audi'\n",
        "\n",
        "print(m1.color,m1.brand)\n",
        "print(m2.model,m2.color,m2.brand)"
      ],
      "metadata": {
        "colab": {
          "base_uri": "https://localhost:8080/"
        },
        "id": "lQYP8tY4KRVt",
        "outputId": "71fbe338-a50b-4872-ec15-6c6857390a31"
      },
      "execution_count": null,
      "outputs": [
        {
          "output_type": "stream",
          "name": "stdout",
          "text": [
            "Red ()\n",
            "2011 brand Audi\n"
          ]
        }
      ]
    },
    {
      "cell_type": "code",
      "source": [
        "class Student:\n",
        "  def __init__(self,name):\n",
        "    self.name = name\n"
      ],
      "metadata": {
        "id": "x45Dp-CQMOko"
      },
      "execution_count": null,
      "outputs": []
    },
    {
      "cell_type": "code",
      "source": [
        "t1 = Student(\"Richard\")\n",
        "t2 = Student(\"Gary\")\n",
        "\n",
        "print(t1.name)\n",
        "print(t2.name)"
      ],
      "metadata": {
        "colab": {
          "base_uri": "https://localhost:8080/"
        },
        "id": "RiQBC-M3Mflh",
        "outputId": "e724bc70-130d-4491-8ffe-f8621b19ad09"
      },
      "execution_count": null,
      "outputs": [
        {
          "output_type": "stream",
          "name": "stdout",
          "text": [
            "Richard\n",
            "Gary\n"
          ]
        }
      ]
    },
    {
      "cell_type": "code",
      "source": [
        ""
      ],
      "metadata": {
        "id": "68NDppEPlX27"
      },
      "execution_count": null,
      "outputs": []
    },
    {
      "cell_type": "markdown",
      "source": [
        "**Class has functionality \n",
        "Data, Behavior, Methods\n",
        "Class has power of features \n",
        "list.append has this method within the list class**\n",
        "\n",
        "Properties --..> data /attributes\n",
        "functionality ----> method / behavior // action"
      ],
      "metadata": {
        "id": "jn2YlkAGlYFs"
      }
    },
    {
      "cell_type": "code",
      "source": [
        "class Village:\n",
        "  def __init__ (self,roadname):\n",
        "    self.roadname = name\n",
        "\n",
        "    village1 = Village(\"Link Road\")\n",
        "    village2 = Village(\"Colony Road\")\n",
        "\n",
        "    print(village1.roadname)\n",
        "    print(village2.roadname)"
      ],
      "metadata": {
        "id": "b5qYVugClgLq"
      },
      "execution_count": 4,
      "outputs": []
    },
    {
      "cell_type": "markdown",
      "source": [
        "** DUNDER -- dunder init (double underscore init doublescore -- called as constructor ** this function's job is to make sure that it has the data or properties it needs e.g. to make a car you need wheels certainly\n",
        "\n",
        "*   List item\n",
        "*   List item\n",
        "\n"
      ],
      "metadata": {
        "id": "DqwrtLzH-_7J"
      }
    }
  ]
}